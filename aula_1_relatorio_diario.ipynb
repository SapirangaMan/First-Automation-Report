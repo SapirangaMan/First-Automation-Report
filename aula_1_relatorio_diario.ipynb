{
 "cells": [
  {
   "cell_type": "markdown",
   "id": "46a34a0d",
   "metadata": {},
   "source": [
    "# Projeto 1 - Relatório de fechamento de mercado por e-mail.\n",
    "\n",
    "\n",
    "### Desafio:\n",
    "\n",
    "* Construir um e-mail que chegue na caixa de entrada todos os dias com informações de fechamento do Ibovespa e dólar.\n",
    "\n",
    "### Passo a passo:\n",
    "\n",
    "   **Passo 1** - Importar os módulos e bibliotecas.\n",
    "   \n",
    "   **Passo 2** - Pegar dados do Ibovespa e do Dólar no Yahoo Finance.\n",
    "   \n",
    "   **Passo 3** - Manipular os dados para deixá-los nos formatos necessários para fazer as contas.\n",
    "   \n",
    "   **Passo 4** - Calcular o retorno diário, mensal e anual.\n",
    "   \n",
    "   **Passo 5** - Localizar, dentro das tabelas de retornos, os valores de fechamento de mercado que irão pro texto  anexado no e-mail.\n",
    "   \n",
    "   **Passo 6** - Fazer os gráficos dos ativos.\n",
    "   \n",
    "   **Passo 7** - Enviar o e-mail.\n"
   ]
  },
  {
   "cell_type": "code",
   "execution_count": 1,
   "id": "f2693238",
   "metadata": {},
   "outputs": [
    {
     "name": "stdout",
     "output_type": "stream",
     "text": [
      "Collecting python-dotenv\n",
      "  Using cached python_dotenv-1.0.0-py3-none-any.whl (19 kB)\n",
      "Installing collected packages: python-dotenv\n",
      "Successfully installed python-dotenv-1.0.0\n"
     ]
    }
   ],
   "source": [
    "!pip install python-dotenv"
   ]
  },
  {
   "cell_type": "code",
   "execution_count": 2,
   "id": "db2e8d6b",
   "metadata": {},
   "outputs": [
    {
     "name": "stdout",
     "output_type": "stream",
     "text": [
      "Collecting yfinance==0.1.74\n",
      "  Using cached yfinance-0.1.74-py2.py3-none-any.whl (27 kB)\n",
      "Requirement already satisfied: pandas>=0.24.0 in c:\\users\\darta\\anaconda3\\lib\\site-packages (from yfinance==0.1.74) (1.5.3)\n",
      "Requirement already satisfied: requests>=2.26 in c:\\users\\darta\\anaconda3\\lib\\site-packages (from yfinance==0.1.74) (2.28.1)\n",
      "Requirement already satisfied: lxml>=4.5.1 in c:\\users\\darta\\anaconda3\\lib\\site-packages (from yfinance==0.1.74) (4.9.1)\n",
      "Collecting multitasking>=0.0.7\n",
      "  Using cached multitasking-0.0.11-py3-none-any.whl (8.5 kB)\n",
      "Requirement already satisfied: numpy>=1.15 in c:\\users\\darta\\anaconda3\\lib\\site-packages (from yfinance==0.1.74) (1.23.5)\n",
      "Requirement already satisfied: python-dateutil>=2.8.1 in c:\\users\\darta\\anaconda3\\lib\\site-packages (from pandas>=0.24.0->yfinance==0.1.74) (2.8.2)\n",
      "Requirement already satisfied: pytz>=2020.1 in c:\\users\\darta\\anaconda3\\lib\\site-packages (from pandas>=0.24.0->yfinance==0.1.74) (2022.7)\n",
      "Requirement already satisfied: idna<4,>=2.5 in c:\\users\\darta\\anaconda3\\lib\\site-packages (from requests>=2.26->yfinance==0.1.74) (3.4)\n",
      "Requirement already satisfied: certifi>=2017.4.17 in c:\\users\\darta\\anaconda3\\lib\\site-packages (from requests>=2.26->yfinance==0.1.74) (2022.12.7)\n",
      "Requirement already satisfied: charset-normalizer<3,>=2 in c:\\users\\darta\\anaconda3\\lib\\site-packages (from requests>=2.26->yfinance==0.1.74) (2.0.4)\n",
      "Requirement already satisfied: urllib3<1.27,>=1.21.1 in c:\\users\\darta\\anaconda3\\lib\\site-packages (from requests>=2.26->yfinance==0.1.74) (1.26.14)\n",
      "Requirement already satisfied: six>=1.5 in c:\\users\\darta\\anaconda3\\lib\\site-packages (from python-dateutil>=2.8.1->pandas>=0.24.0->yfinance==0.1.74) (1.16.0)\n",
      "Installing collected packages: multitasking, yfinance\n",
      "Successfully installed multitasking-0.0.11 yfinance-0.1.74\n"
     ]
    }
   ],
   "source": [
    "!pip install yfinance==0.1.74"
   ]
  },
  {
   "cell_type": "code",
   "execution_count": 3,
   "id": "8a485f17",
   "metadata": {},
   "outputs": [
    {
     "name": "stdout",
     "output_type": "stream",
     "text": [
      "Collecting mplcyberpunk\n",
      "  Using cached mplcyberpunk-0.6.0-py3-none-any.whl (6.0 kB)\n",
      "Requirement already satisfied: matplotlib in c:\\users\\darta\\anaconda3\\lib\\site-packages (from mplcyberpunk) (3.7.0)\n",
      "Requirement already satisfied: fonttools>=4.22.0 in c:\\users\\darta\\anaconda3\\lib\\site-packages (from matplotlib->mplcyberpunk) (4.25.0)\n",
      "Requirement already satisfied: numpy>=1.20 in c:\\users\\darta\\anaconda3\\lib\\site-packages (from matplotlib->mplcyberpunk) (1.23.5)\n",
      "Requirement already satisfied: cycler>=0.10 in c:\\users\\darta\\anaconda3\\lib\\site-packages (from matplotlib->mplcyberpunk) (0.11.0)\n",
      "Requirement already satisfied: python-dateutil>=2.7 in c:\\users\\darta\\anaconda3\\lib\\site-packages (from matplotlib->mplcyberpunk) (2.8.2)\n",
      "Requirement already satisfied: kiwisolver>=1.0.1 in c:\\users\\darta\\anaconda3\\lib\\site-packages (from matplotlib->mplcyberpunk) (1.4.4)\n",
      "Requirement already satisfied: pyparsing>=2.3.1 in c:\\users\\darta\\anaconda3\\lib\\site-packages (from matplotlib->mplcyberpunk) (3.0.9)\n",
      "Requirement already satisfied: pillow>=6.2.0 in c:\\users\\darta\\anaconda3\\lib\\site-packages (from matplotlib->mplcyberpunk) (9.4.0)\n",
      "Requirement already satisfied: packaging>=20.0 in c:\\users\\darta\\anaconda3\\lib\\site-packages (from matplotlib->mplcyberpunk) (22.0)\n",
      "Requirement already satisfied: contourpy>=1.0.1 in c:\\users\\darta\\anaconda3\\lib\\site-packages (from matplotlib->mplcyberpunk) (1.0.5)\n",
      "Requirement already satisfied: six>=1.5 in c:\\users\\darta\\anaconda3\\lib\\site-packages (from python-dateutil>=2.7->matplotlib->mplcyberpunk) (1.16.0)\n",
      "Installing collected packages: mplcyberpunk\n",
      "Successfully installed mplcyberpunk-0.6.0\n"
     ]
    }
   ],
   "source": [
    "!pip install mplcyberpunk"
   ]
  },
  {
   "cell_type": "code",
   "execution_count": null,
   "id": "0b965b40",
   "metadata": {},
   "outputs": [],
   "source": []
  },
  {
   "cell_type": "markdown",
   "id": "e6981e4d",
   "metadata": {},
   "source": [
    "# Passo 1: Importando os módulos necessários"
   ]
  },
  {
   "cell_type": "code",
   "execution_count": 21,
   "id": "c240f30f",
   "metadata": {
    "scrolled": true
   },
   "outputs": [],
   "source": [
    "import pandas as pd\n",
    "import datetime\n",
    "import yfinance as yf\n",
    "from matplotlib import pyplot as plt\n",
    "import mplcyberpunk\n",
    "import smtplib\n",
    "from email.message import EmailMessage"
   ]
  },
  {
   "cell_type": "markdown",
   "id": "acf74183",
   "metadata": {},
   "source": [
    "# Passo 2: Pegar dados no Yahoo Finance"
   ]
  },
  {
   "cell_type": "code",
   "execution_count": 5,
   "id": "8b1148fd",
   "metadata": {
    "scrolled": false
   },
   "outputs": [
    {
     "name": "stdout",
     "output_type": "stream",
     "text": [
      "[*********************100%***********************]  2 of 2 completed\n"
     ]
    },
    {
     "data": {
      "text/html": [
       "<div>\n",
       "<style scoped>\n",
       "    .dataframe tbody tr th:only-of-type {\n",
       "        vertical-align: middle;\n",
       "    }\n",
       "\n",
       "    .dataframe tbody tr th {\n",
       "        vertical-align: top;\n",
       "    }\n",
       "\n",
       "    .dataframe thead tr th {\n",
       "        text-align: left;\n",
       "    }\n",
       "\n",
       "    .dataframe thead tr:last-of-type th {\n",
       "        text-align: right;\n",
       "    }\n",
       "</style>\n",
       "<table border=\"1\" class=\"dataframe\">\n",
       "  <thead>\n",
       "    <tr>\n",
       "      <th></th>\n",
       "      <th colspan=\"2\" halign=\"left\">Adj Close</th>\n",
       "      <th colspan=\"2\" halign=\"left\">Close</th>\n",
       "      <th colspan=\"2\" halign=\"left\">High</th>\n",
       "      <th colspan=\"2\" halign=\"left\">Low</th>\n",
       "      <th colspan=\"2\" halign=\"left\">Open</th>\n",
       "      <th colspan=\"2\" halign=\"left\">Volume</th>\n",
       "    </tr>\n",
       "    <tr>\n",
       "      <th></th>\n",
       "      <th>BRL=X</th>\n",
       "      <th>^BVSP</th>\n",
       "      <th>BRL=X</th>\n",
       "      <th>^BVSP</th>\n",
       "      <th>BRL=X</th>\n",
       "      <th>^BVSP</th>\n",
       "      <th>BRL=X</th>\n",
       "      <th>^BVSP</th>\n",
       "      <th>BRL=X</th>\n",
       "      <th>^BVSP</th>\n",
       "      <th>BRL=X</th>\n",
       "      <th>^BVSP</th>\n",
       "    </tr>\n",
       "    <tr>\n",
       "      <th>Date</th>\n",
       "      <th></th>\n",
       "      <th></th>\n",
       "      <th></th>\n",
       "      <th></th>\n",
       "      <th></th>\n",
       "      <th></th>\n",
       "      <th></th>\n",
       "      <th></th>\n",
       "      <th></th>\n",
       "      <th></th>\n",
       "      <th></th>\n",
       "      <th></th>\n",
       "    </tr>\n",
       "  </thead>\n",
       "  <tbody>\n",
       "    <tr>\n",
       "      <th>2022-04-07</th>\n",
       "      <td>4.7152</td>\n",
       "      <td>118862.0</td>\n",
       "      <td>4.7152</td>\n",
       "      <td>118862.0</td>\n",
       "      <td>4.7699</td>\n",
       "      <td>119247.0</td>\n",
       "      <td>4.690400</td>\n",
       "      <td>117509.0</td>\n",
       "      <td>4.7152</td>\n",
       "      <td>118226.0</td>\n",
       "      <td>0</td>\n",
       "      <td>11520100.0</td>\n",
       "    </tr>\n",
       "    <tr>\n",
       "      <th>2022-04-08</th>\n",
       "      <td>4.7521</td>\n",
       "      <td>118322.0</td>\n",
       "      <td>4.7521</td>\n",
       "      <td>118322.0</td>\n",
       "      <td>4.7913</td>\n",
       "      <td>118868.0</td>\n",
       "      <td>4.707518</td>\n",
       "      <td>117487.0</td>\n",
       "      <td>4.7521</td>\n",
       "      <td>118861.0</td>\n",
       "      <td>0</td>\n",
       "      <td>11225800.0</td>\n",
       "    </tr>\n",
       "    <tr>\n",
       "      <th>2022-04-11</th>\n",
       "      <td>4.6981</td>\n",
       "      <td>116953.0</td>\n",
       "      <td>4.6981</td>\n",
       "      <td>116953.0</td>\n",
       "      <td>4.7326</td>\n",
       "      <td>118320.0</td>\n",
       "      <td>4.684016</td>\n",
       "      <td>116953.0</td>\n",
       "      <td>4.6980</td>\n",
       "      <td>118320.0</td>\n",
       "      <td>0</td>\n",
       "      <td>9558400.0</td>\n",
       "    </tr>\n",
       "    <tr>\n",
       "      <th>2022-04-12</th>\n",
       "      <td>4.6936</td>\n",
       "      <td>116147.0</td>\n",
       "      <td>4.6936</td>\n",
       "      <td>116147.0</td>\n",
       "      <td>4.6971</td>\n",
       "      <td>118615.0</td>\n",
       "      <td>4.621500</td>\n",
       "      <td>116054.0</td>\n",
       "      <td>4.6936</td>\n",
       "      <td>116963.0</td>\n",
       "      <td>0</td>\n",
       "      <td>11406800.0</td>\n",
       "    </tr>\n",
       "    <tr>\n",
       "      <th>2022-04-13</th>\n",
       "      <td>4.6731</td>\n",
       "      <td>116782.0</td>\n",
       "      <td>4.6731</td>\n",
       "      <td>116782.0</td>\n",
       "      <td>4.7023</td>\n",
       "      <td>117329.0</td>\n",
       "      <td>4.653200</td>\n",
       "      <td>116150.0</td>\n",
       "      <td>4.6731</td>\n",
       "      <td>116150.0</td>\n",
       "      <td>0</td>\n",
       "      <td>12070500.0</td>\n",
       "    </tr>\n",
       "    <tr>\n",
       "      <th>...</th>\n",
       "      <td>...</td>\n",
       "      <td>...</td>\n",
       "      <td>...</td>\n",
       "      <td>...</td>\n",
       "      <td>...</td>\n",
       "      <td>...</td>\n",
       "      <td>...</td>\n",
       "      <td>...</td>\n",
       "      <td>...</td>\n",
       "      <td>...</td>\n",
       "      <td>...</td>\n",
       "      <td>...</td>\n",
       "    </tr>\n",
       "    <tr>\n",
       "      <th>2023-03-31</th>\n",
       "      <td>5.0927</td>\n",
       "      <td>101882.0</td>\n",
       "      <td>5.0927</td>\n",
       "      <td>101882.0</td>\n",
       "      <td>5.1033</td>\n",
       "      <td>104041.0</td>\n",
       "      <td>5.055200</td>\n",
       "      <td>101476.0</td>\n",
       "      <td>5.0927</td>\n",
       "      <td>103714.0</td>\n",
       "      <td>0</td>\n",
       "      <td>15111200.0</td>\n",
       "    </tr>\n",
       "    <tr>\n",
       "      <th>2023-04-03</th>\n",
       "      <td>5.0623</td>\n",
       "      <td>101506.0</td>\n",
       "      <td>5.0623</td>\n",
       "      <td>101506.0</td>\n",
       "      <td>5.0755</td>\n",
       "      <td>101916.0</td>\n",
       "      <td>5.036216</td>\n",
       "      <td>100651.0</td>\n",
       "      <td>5.0623</td>\n",
       "      <td>101883.0</td>\n",
       "      <td>0</td>\n",
       "      <td>12794800.0</td>\n",
       "    </tr>\n",
       "    <tr>\n",
       "      <th>2023-04-04</th>\n",
       "      <td>5.0631</td>\n",
       "      <td>101869.0</td>\n",
       "      <td>5.0631</td>\n",
       "      <td>101869.0</td>\n",
       "      <td>5.0976</td>\n",
       "      <td>103056.0</td>\n",
       "      <td>5.048277</td>\n",
       "      <td>101505.0</td>\n",
       "      <td>5.0631</td>\n",
       "      <td>101505.0</td>\n",
       "      <td>0</td>\n",
       "      <td>11695800.0</td>\n",
       "    </tr>\n",
       "    <tr>\n",
       "      <th>2023-04-05</th>\n",
       "      <td>5.0707</td>\n",
       "      <td>100978.0</td>\n",
       "      <td>5.0707</td>\n",
       "      <td>100978.0</td>\n",
       "      <td>5.0743</td>\n",
       "      <td>101960.0</td>\n",
       "      <td>5.027504</td>\n",
       "      <td>99898.0</td>\n",
       "      <td>5.0707</td>\n",
       "      <td>101869.0</td>\n",
       "      <td>0</td>\n",
       "      <td>13256500.0</td>\n",
       "    </tr>\n",
       "    <tr>\n",
       "      <th>2023-04-06</th>\n",
       "      <td>5.0332</td>\n",
       "      <td>100822.0</td>\n",
       "      <td>5.0332</td>\n",
       "      <td>100822.0</td>\n",
       "      <td>5.0789</td>\n",
       "      <td>101628.0</td>\n",
       "      <td>5.028911</td>\n",
       "      <td>100443.0</td>\n",
       "      <td>5.0332</td>\n",
       "      <td>100978.0</td>\n",
       "      <td>0</td>\n",
       "      <td>9818500.0</td>\n",
       "    </tr>\n",
       "  </tbody>\n",
       "</table>\n",
       "<p>261 rows × 12 columns</p>\n",
       "</div>"
      ],
      "text/plain": [
       "           Adj Close             Close              High                 Low  \\\n",
       "               BRL=X     ^BVSP   BRL=X     ^BVSP   BRL=X     ^BVSP     BRL=X   \n",
       "Date                                                                           \n",
       "2022-04-07    4.7152  118862.0  4.7152  118862.0  4.7699  119247.0  4.690400   \n",
       "2022-04-08    4.7521  118322.0  4.7521  118322.0  4.7913  118868.0  4.707518   \n",
       "2022-04-11    4.6981  116953.0  4.6981  116953.0  4.7326  118320.0  4.684016   \n",
       "2022-04-12    4.6936  116147.0  4.6936  116147.0  4.6971  118615.0  4.621500   \n",
       "2022-04-13    4.6731  116782.0  4.6731  116782.0  4.7023  117329.0  4.653200   \n",
       "...              ...       ...     ...       ...     ...       ...       ...   \n",
       "2023-03-31    5.0927  101882.0  5.0927  101882.0  5.1033  104041.0  5.055200   \n",
       "2023-04-03    5.0623  101506.0  5.0623  101506.0  5.0755  101916.0  5.036216   \n",
       "2023-04-04    5.0631  101869.0  5.0631  101869.0  5.0976  103056.0  5.048277   \n",
       "2023-04-05    5.0707  100978.0  5.0707  100978.0  5.0743  101960.0  5.027504   \n",
       "2023-04-06    5.0332  100822.0  5.0332  100822.0  5.0789  101628.0  5.028911   \n",
       "\n",
       "                        Open           Volume              \n",
       "               ^BVSP   BRL=X     ^BVSP  BRL=X       ^BVSP  \n",
       "Date                                                       \n",
       "2022-04-07  117509.0  4.7152  118226.0      0  11520100.0  \n",
       "2022-04-08  117487.0  4.7521  118861.0      0  11225800.0  \n",
       "2022-04-11  116953.0  4.6980  118320.0      0   9558400.0  \n",
       "2022-04-12  116054.0  4.6936  116963.0      0  11406800.0  \n",
       "2022-04-13  116150.0  4.6731  116150.0      0  12070500.0  \n",
       "...              ...     ...       ...    ...         ...  \n",
       "2023-03-31  101476.0  5.0927  103714.0      0  15111200.0  \n",
       "2023-04-03  100651.0  5.0623  101883.0      0  12794800.0  \n",
       "2023-04-04  101505.0  5.0631  101505.0      0  11695800.0  \n",
       "2023-04-05   99898.0  5.0707  101869.0      0  13256500.0  \n",
       "2023-04-06  100443.0  5.0332  100978.0      0   9818500.0  \n",
       "\n",
       "[261 rows x 12 columns]"
      ]
     },
     "metadata": {},
     "output_type": "display_data"
    }
   ],
   "source": [
    "ativos = [\"^BVSP\", \"BRL=X\"]\n",
    "\n",
    "hoje = datetime.datetime.now()\n",
    "um_ano_atras = hoje - datetime.timedelta(days = 365)\n",
    "\n",
    "dados_mercado = yf.download(ativos, um_ano_atras, hoje)\n",
    "\n",
    "display(dados_mercado)"
   ]
  },
  {
   "cell_type": "markdown",
   "id": "97299541",
   "metadata": {},
   "source": [
    "# Passo 3.1: Manipulando os dados - seleção e exclusão de dados "
   ]
  },
  {
   "cell_type": "code",
   "execution_count": 9,
   "id": "7fc12aa7",
   "metadata": {
    "scrolled": true
   },
   "outputs": [
    {
     "data": {
      "text/html": [
       "<div>\n",
       "<style scoped>\n",
       "    .dataframe tbody tr th:only-of-type {\n",
       "        vertical-align: middle;\n",
       "    }\n",
       "\n",
       "    .dataframe tbody tr th {\n",
       "        vertical-align: top;\n",
       "    }\n",
       "\n",
       "    .dataframe thead th {\n",
       "        text-align: right;\n",
       "    }\n",
       "</style>\n",
       "<table border=\"1\" class=\"dataframe\">\n",
       "  <thead>\n",
       "    <tr style=\"text-align: right;\">\n",
       "      <th></th>\n",
       "      <th>Dolar</th>\n",
       "      <th>Ibovespa</th>\n",
       "    </tr>\n",
       "    <tr>\n",
       "      <th>Date</th>\n",
       "      <th></th>\n",
       "      <th></th>\n",
       "    </tr>\n",
       "  </thead>\n",
       "  <tbody>\n",
       "    <tr>\n",
       "      <th>2022-04-07</th>\n",
       "      <td>4.7152</td>\n",
       "      <td>118862.0</td>\n",
       "    </tr>\n",
       "    <tr>\n",
       "      <th>2022-04-08</th>\n",
       "      <td>4.7521</td>\n",
       "      <td>118322.0</td>\n",
       "    </tr>\n",
       "    <tr>\n",
       "      <th>2022-04-11</th>\n",
       "      <td>4.6981</td>\n",
       "      <td>116953.0</td>\n",
       "    </tr>\n",
       "    <tr>\n",
       "      <th>2022-04-12</th>\n",
       "      <td>4.6936</td>\n",
       "      <td>116147.0</td>\n",
       "    </tr>\n",
       "    <tr>\n",
       "      <th>2022-04-13</th>\n",
       "      <td>4.6731</td>\n",
       "      <td>116782.0</td>\n",
       "    </tr>\n",
       "    <tr>\n",
       "      <th>...</th>\n",
       "      <td>...</td>\n",
       "      <td>...</td>\n",
       "    </tr>\n",
       "    <tr>\n",
       "      <th>2023-03-31</th>\n",
       "      <td>5.0927</td>\n",
       "      <td>101882.0</td>\n",
       "    </tr>\n",
       "    <tr>\n",
       "      <th>2023-04-03</th>\n",
       "      <td>5.0623</td>\n",
       "      <td>101506.0</td>\n",
       "    </tr>\n",
       "    <tr>\n",
       "      <th>2023-04-04</th>\n",
       "      <td>5.0631</td>\n",
       "      <td>101869.0</td>\n",
       "    </tr>\n",
       "    <tr>\n",
       "      <th>2023-04-05</th>\n",
       "      <td>5.0707</td>\n",
       "      <td>100978.0</td>\n",
       "    </tr>\n",
       "    <tr>\n",
       "      <th>2023-04-06</th>\n",
       "      <td>5.0332</td>\n",
       "      <td>100822.0</td>\n",
       "    </tr>\n",
       "  </tbody>\n",
       "</table>\n",
       "<p>251 rows × 2 columns</p>\n",
       "</div>"
      ],
      "text/plain": [
       "             Dolar  Ibovespa\n",
       "Date                        \n",
       "2022-04-07  4.7152  118862.0\n",
       "2022-04-08  4.7521  118322.0\n",
       "2022-04-11  4.6981  116953.0\n",
       "2022-04-12  4.6936  116147.0\n",
       "2022-04-13  4.6731  116782.0\n",
       "...            ...       ...\n",
       "2023-03-31  5.0927  101882.0\n",
       "2023-04-03  5.0623  101506.0\n",
       "2023-04-04  5.0631  101869.0\n",
       "2023-04-05  5.0707  100978.0\n",
       "2023-04-06  5.0332  100822.0\n",
       "\n",
       "[251 rows x 2 columns]"
      ]
     },
     "execution_count": 9,
     "metadata": {},
     "output_type": "execute_result"
    }
   ],
   "source": [
    "dados_fechamento = dados_mercado['Adj Close']\n",
    "dados_fechamento.columns = ['Dolar', 'Ibovespa']\n",
    "dados_fechamento = dados_fechamento.dropna()\n",
    "\n",
    "dados_fechamento"
   ]
  },
  {
   "cell_type": "markdown",
   "id": "d517811a",
   "metadata": {},
   "source": [
    "# Passo 3.2: Manipulando os dados - Criando tabelas com outros timeframes. "
   ]
  },
  {
   "cell_type": "code",
   "execution_count": 16,
   "id": "5d18c91e",
   "metadata": {
    "scrolled": false
   },
   "outputs": [
    {
     "data": {
      "text/html": [
       "<div>\n",
       "<style scoped>\n",
       "    .dataframe tbody tr th:only-of-type {\n",
       "        vertical-align: middle;\n",
       "    }\n",
       "\n",
       "    .dataframe tbody tr th {\n",
       "        vertical-align: top;\n",
       "    }\n",
       "\n",
       "    .dataframe thead th {\n",
       "        text-align: right;\n",
       "    }\n",
       "</style>\n",
       "<table border=\"1\" class=\"dataframe\">\n",
       "  <thead>\n",
       "    <tr style=\"text-align: right;\">\n",
       "      <th></th>\n",
       "      <th>Dolar</th>\n",
       "      <th>Ibovespa</th>\n",
       "    </tr>\n",
       "    <tr>\n",
       "      <th>Date</th>\n",
       "      <th></th>\n",
       "      <th></th>\n",
       "    </tr>\n",
       "  </thead>\n",
       "  <tbody>\n",
       "    <tr>\n",
       "      <th>2022-04-30</th>\n",
       "      <td>4.9378</td>\n",
       "      <td>107876.0</td>\n",
       "    </tr>\n",
       "    <tr>\n",
       "      <th>2022-05-31</th>\n",
       "      <td>4.7524</td>\n",
       "      <td>111351.0</td>\n",
       "    </tr>\n",
       "    <tr>\n",
       "      <th>2022-06-30</th>\n",
       "      <td>5.1809</td>\n",
       "      <td>98542.0</td>\n",
       "    </tr>\n",
       "    <tr>\n",
       "      <th>2022-07-31</th>\n",
       "      <td>5.1827</td>\n",
       "      <td>103165.0</td>\n",
       "    </tr>\n",
       "    <tr>\n",
       "      <th>2022-08-31</th>\n",
       "      <td>5.1219</td>\n",
       "      <td>109523.0</td>\n",
       "    </tr>\n",
       "    <tr>\n",
       "      <th>2022-09-30</th>\n",
       "      <td>5.3962</td>\n",
       "      <td>110037.0</td>\n",
       "    </tr>\n",
       "    <tr>\n",
       "      <th>2022-10-31</th>\n",
       "      <td>5.2885</td>\n",
       "      <td>116037.0</td>\n",
       "    </tr>\n",
       "    <tr>\n",
       "      <th>2022-11-30</th>\n",
       "      <td>5.2682</td>\n",
       "      <td>112486.0</td>\n",
       "    </tr>\n",
       "    <tr>\n",
       "      <th>2022-12-31</th>\n",
       "      <td>5.2668</td>\n",
       "      <td>110031.0</td>\n",
       "    </tr>\n",
       "    <tr>\n",
       "      <th>2023-01-31</th>\n",
       "      <td>5.1149</td>\n",
       "      <td>113532.0</td>\n",
       "    </tr>\n",
       "    <tr>\n",
       "      <th>2023-02-28</th>\n",
       "      <td>5.1997</td>\n",
       "      <td>104932.0</td>\n",
       "    </tr>\n",
       "    <tr>\n",
       "      <th>2023-03-31</th>\n",
       "      <td>5.0927</td>\n",
       "      <td>101882.0</td>\n",
       "    </tr>\n",
       "    <tr>\n",
       "      <th>2023-04-30</th>\n",
       "      <td>5.0332</td>\n",
       "      <td>100822.0</td>\n",
       "    </tr>\n",
       "  </tbody>\n",
       "</table>\n",
       "</div>"
      ],
      "text/plain": [
       "             Dolar  Ibovespa\n",
       "Date                        \n",
       "2022-04-30  4.9378  107876.0\n",
       "2022-05-31  4.7524  111351.0\n",
       "2022-06-30  5.1809   98542.0\n",
       "2022-07-31  5.1827  103165.0\n",
       "2022-08-31  5.1219  109523.0\n",
       "2022-09-30  5.3962  110037.0\n",
       "2022-10-31  5.2885  116037.0\n",
       "2022-11-30  5.2682  112486.0\n",
       "2022-12-31  5.2668  110031.0\n",
       "2023-01-31  5.1149  113532.0\n",
       "2023-02-28  5.1997  104932.0\n",
       "2023-03-31  5.0927  101882.0\n",
       "2023-04-30  5.0332  100822.0"
      ]
     },
     "execution_count": 16,
     "metadata": {},
     "output_type": "execute_result"
    }
   ],
   "source": [
    "dados_fechamento_mensal = dados_fechamento.resample(\"M\").last()\n",
    "dados_fechamento_anual = dados_fechamento.resample(\"Y\").last()\n",
    "\n",
    "dados_fechamento_mensal"
   ]
  },
  {
   "cell_type": "markdown",
   "id": "911c319d",
   "metadata": {},
   "source": [
    "# Passo 4 - Calcular fechamento do dia, retorno no ano e retorno no mês dos ativos. "
   ]
  },
  {
   "cell_type": "code",
   "execution_count": 8,
   "id": "9a41f8ef",
   "metadata": {
    "scrolled": false
   },
   "outputs": [
    {
     "data": {
      "text/html": [
       "<div>\n",
       "<style scoped>\n",
       "    .dataframe tbody tr th:only-of-type {\n",
       "        vertical-align: middle;\n",
       "    }\n",
       "\n",
       "    .dataframe tbody tr th {\n",
       "        vertical-align: top;\n",
       "    }\n",
       "\n",
       "    .dataframe thead th {\n",
       "        text-align: right;\n",
       "    }\n",
       "</style>\n",
       "<table border=\"1\" class=\"dataframe\">\n",
       "  <thead>\n",
       "    <tr style=\"text-align: right;\">\n",
       "      <th></th>\n",
       "      <th>dolar</th>\n",
       "      <th>ibovespa</th>\n",
       "    </tr>\n",
       "    <tr>\n",
       "      <th>Date</th>\n",
       "      <th></th>\n",
       "      <th></th>\n",
       "    </tr>\n",
       "  </thead>\n",
       "  <tbody>\n",
       "    <tr>\n",
       "      <th>2022-04-08</th>\n",
       "      <td>0.007826</td>\n",
       "      <td>-0.004543</td>\n",
       "    </tr>\n",
       "    <tr>\n",
       "      <th>2022-04-11</th>\n",
       "      <td>-0.011363</td>\n",
       "      <td>-0.011570</td>\n",
       "    </tr>\n",
       "    <tr>\n",
       "      <th>2022-04-12</th>\n",
       "      <td>-0.000958</td>\n",
       "      <td>-0.006892</td>\n",
       "    </tr>\n",
       "    <tr>\n",
       "      <th>2022-04-13</th>\n",
       "      <td>-0.004368</td>\n",
       "      <td>0.005467</td>\n",
       "    </tr>\n",
       "    <tr>\n",
       "      <th>2022-04-14</th>\n",
       "      <td>0.003659</td>\n",
       "      <td>-0.005138</td>\n",
       "    </tr>\n",
       "    <tr>\n",
       "      <th>...</th>\n",
       "      <td>...</td>\n",
       "      <td>...</td>\n",
       "    </tr>\n",
       "    <tr>\n",
       "      <th>2023-03-31</th>\n",
       "      <td>-0.008083</td>\n",
       "      <td>-0.017654</td>\n",
       "    </tr>\n",
       "    <tr>\n",
       "      <th>2023-04-03</th>\n",
       "      <td>-0.005969</td>\n",
       "      <td>-0.003691</td>\n",
       "    </tr>\n",
       "    <tr>\n",
       "      <th>2023-04-04</th>\n",
       "      <td>0.000158</td>\n",
       "      <td>0.003576</td>\n",
       "    </tr>\n",
       "    <tr>\n",
       "      <th>2023-04-05</th>\n",
       "      <td>0.001501</td>\n",
       "      <td>-0.008747</td>\n",
       "    </tr>\n",
       "    <tr>\n",
       "      <th>2023-04-06</th>\n",
       "      <td>-0.007396</td>\n",
       "      <td>-0.001545</td>\n",
       "    </tr>\n",
       "  </tbody>\n",
       "</table>\n",
       "<p>250 rows × 2 columns</p>\n",
       "</div>"
      ],
      "text/plain": [
       "               dolar  ibovespa\n",
       "Date                          \n",
       "2022-04-08  0.007826 -0.004543\n",
       "2022-04-11 -0.011363 -0.011570\n",
       "2022-04-12 -0.000958 -0.006892\n",
       "2022-04-13 -0.004368  0.005467\n",
       "2022-04-14  0.003659 -0.005138\n",
       "...              ...       ...\n",
       "2023-03-31 -0.008083 -0.017654\n",
       "2023-04-03 -0.005969 -0.003691\n",
       "2023-04-04  0.000158  0.003576\n",
       "2023-04-05  0.001501 -0.008747\n",
       "2023-04-06 -0.007396 -0.001545\n",
       "\n",
       "[250 rows x 2 columns]"
      ]
     },
     "execution_count": 8,
     "metadata": {},
     "output_type": "execute_result"
    }
   ],
   "source": [
    "retorno_no_ano = dados_fechamento_anual.pct_change().dropna()\n",
    "retorno_no_mes = dados_fechamento_mensal.pct_change().dropna()\n",
    "retorno_no_dia = dados_fechamento.pct_change().dropna()\n",
    "\n",
    "retorno_no_dia"
   ]
  },
  {
   "cell_type": "markdown",
   "id": "2f2fbd67",
   "metadata": {},
   "source": [
    "# Passo 5 - Localizar o fechamento do dia anterior, retorno no mês e retorno no ano.\n",
    "\n",
    "* Loc -> referenciar elementos a partir do nome\n",
    "* Iloc -> selecionar elementos como uma matriz"
   ]
  },
  {
   "cell_type": "code",
   "execution_count": 22,
   "id": "3e09ac56",
   "metadata": {},
   "outputs": [
    {
     "data": {
      "text/plain": [
       "-0.044353334637057595"
      ]
     },
     "execution_count": 22,
     "metadata": {},
     "output_type": "execute_result"
    }
   ],
   "source": [
    "retorno_dia_dolar = retorno_no_dia.iloc[-1, 0]\n",
    "retorno_dia_ibovespa = retorno_no_dia.iloc[-1, 1]\n",
    "\n",
    "retorno_mes_dolar = retorno_no_mes.iloc[-1, 0]\n",
    "retorno_mes_ibovespa = retorno_no_mes.iloc[-1, 1]\n",
    "\n",
    "retorno_ano_dolar = retorno_no_ano.iloc[-1, 0]\n",
    "retorno_ano_ibovespa = retorno_no_ano.iloc[-1, 1]\n",
    "\n",
    "retorno_ano_dolar"
   ]
  },
  {
   "cell_type": "code",
   "execution_count": 23,
   "id": "3c29b04a",
   "metadata": {},
   "outputs": [],
   "source": [
    "retorno_dia_dolar = round(retorno_dia_dolar * 100, 2)\n",
    "retorno_dia_ibovespa = round(retorno_dia_ibovespa * 100, 2)\n",
    "\n",
    "retorno_mes_dolar = round(retorno_mes_dolar * 100, 2)\n",
    "retorno_mes_ibovespa = round(retorno_mes_ibovespa * 100, 2)\n",
    "\n",
    "retorno_ano_dolar = round(retorno_ano_dolar * 100, 2)\n",
    "retorno_ano_ibovespa = round(retorno_ano_ibovespa * 100, 2)"
   ]
  },
  {
   "cell_type": "markdown",
   "id": "9d90b9d7",
   "metadata": {},
   "source": [
    "# Passo 6 - Fazer os gráficos da performance do último dos ativos"
   ]
  },
  {
   "cell_type": "code",
   "execution_count": 25,
   "id": "1dfa0f50",
   "metadata": {},
   "outputs": [
    {
     "data": {
      "image/png": "[encoded data removed]",
      "text/plain": [
       "<Figure size 640x480 with 1 Axes>"
      ]
     },
     "metadata": {},
     "output_type": "display_data"
    }
   ],
   "source": [
    "plt.style.use(\"cyberpunk\")\n",
    "\n",
    "dados_fechamento.plot(y = 'Ibovespa', use_index = True, legend = False)\n",
    "\n",
    "plt.title(\"Ibovespa\")\n",
    "\n",
    "plt.savefig('ibovespa.png', dpi = 300)\n",
    "\n",
    "plt.show()"
   ]
  },
  {
   "cell_type": "code",
   "execution_count": 26,
   "id": "438092e2",
   "metadata": {},
   "outputs": [
    {
     "data": {
      "image/png": "[encoded data removed]",
      "text/plain": [
       "<Figure size 640x480 with 1 Axes>"
      ]
     },
     "metadata": {},
     "output_type": "display_data"
    }
   ],
   "source": [
    "plt.style.use(\"cyberpunk\")\n",
    "\n",
    "dados_fechamento.plot(y = 'Dolar', use_index = True, legend = False)\n",
    "\n",
    "plt.title(\"Dolar\")\n",
    "\n",
    "plt.savefig('dolar.png', dpi = 300)\n",
    "\n",
    "plt.show()"
   ]
  },
  {
   "cell_type": "markdown",
   "id": "ccd33f98",
   "metadata": {},
   "source": [
    "# Passo 7: Enviar e-mail\n",
    "\n",
    "https://myaccount.google.com/apppasswords"
   ]
  },
  {
   "cell_type": "code",
   "execution_count": 42,
   "id": "32d9d2f2",
   "metadata": {},
   "outputs": [],
   "source": [
    "import os\n",
    "from dotenv import load_dotenv"
   ]
  },
  {
   "cell_type": "code",
   "execution_count": 43,
   "id": "e64b34a2",
   "metadata": {
    "scrolled": true
   },
   "outputs": [
    {
     "data": {
      "text/plain": [
       "True"
      ]
     },
     "execution_count": 43,
     "metadata": {},
     "output_type": "execute_result"
    }
   ],
   "source": [
    "load_dotenv()"
   ]
  },
  {
   "cell_type": "code",
   "execution_count": 44,
   "id": "800f406d",
   "metadata": {},
   "outputs": [],
   "source": [
    "senha = os.environ.get(\"senha_email\")\n",
    "email = 'dartanhan.fett@gmail.com'"
   ]
  },
  {
   "cell_type": "code",
   "execution_count": 45,
   "id": "8721fe26",
   "metadata": {},
   "outputs": [
    {
     "data": {
      "text/plain": [
       "-8.37"
      ]
     },
     "execution_count": 45,
     "metadata": {},
     "output_type": "execute_result"
    }
   ],
   "source": [
    "retorno_ano_ibovespa"
   ]
  },
  {
   "cell_type": "code",
   "execution_count": 49,
   "id": "10d3e386",
   "metadata": {},
   "outputs": [],
   "source": [
    "msg = EmailMessage()\n",
    "msg['Subject'] = \"Enviando e-mail com o Python\"\n",
    "msg['From'] = 'dartanhan.fett@gmail.com'\n",
    "msg['To'] = 'dartanhan.fett@gmail.com'\n",
    "\n",
    "msg.set_content(f'''Prezado diretor, segue o relatório diário:\n",
    "\n",
    "Bolsa:\n",
    "\n",
    "No ano o Ibovespa está tendo uma rentabilidade de {retorno_ano_ibovespa}%, \n",
    "enquanto no mês a rentabilidade é de {retorno_mes_ibovespa}%.\n",
    "\n",
    "No último dia útil, o fechamento do Ibovespa foi de {retorno_dia_ibovespa}%.\n",
    "\n",
    "Dólar:\n",
    "\n",
    "No ano o Dólar está tendo uma rentabilidade de {retorno_ano_dolar}%, \n",
    "enquanto no mês a rentabilidade é de {retorno_mes_dolar}%.\n",
    "\n",
    "No último dia útil, o fechamento do Dólar foi de {retorno_dia_dolar}%.\n",
    "\n",
    "\n",
    "Abs,\n",
    "\n",
    "O melhor estagiário do mundo\n",
    "\n",
    "''')"
   ]
  },
  {
   "cell_type": "code",
   "execution_count": 50,
   "id": "7ebf55aa",
   "metadata": {},
   "outputs": [],
   "source": [
    "with open('dolar.png', 'rb') as content_file:\n",
    "    content = content_file.read()\n",
    "    msg.add_attachment(content, maintype='application', subtype='png', filename='dolar.png')\n",
    "    \n",
    "    \n",
    "with open('ibovespa.png', 'rb') as content_file:\n",
    "    content = content_file.read()\n",
    "    msg.add_attachment(content, maintype='application', subtype='png', filename='ibovespa.png')"
   ]
  },
  {
   "cell_type": "code",
   "execution_count": 51,
   "id": "fb582d6f",
   "metadata": {},
   "outputs": [],
   "source": [
    "with smtplib.SMTP_SSL('smtp.gmail.com', 465) as smtp:\n",
    "    \n",
    "    smtp.login(email, senha)\n",
    "    smtp.send_message(msg)"
   ]
  },
  {
   "cell_type": "code",
   "execution_count": null,
   "id": "a8e8c10c",
   "metadata": {},
   "outputs": [],
   "source": [
    "\n"
   ]
  },
  {
   "cell_type": "code",
   "execution_count": null,
   "id": "b9b1f942",
   "metadata": {},
   "outputs": [],
   "source": []
  },
  {
   "cell_type": "code",
   "execution_count": null,
   "id": "bd063027",
   "metadata": {},
   "outputs": [],
   "source": []
  },
  {
   "cell_type": "code",
   "execution_count": null,
   "id": "7b91a66c",
   "metadata": {},
   "outputs": [],
   "source": []
  },
  {
   "cell_type": "code",
   "execution_count": null,
   "id": "ec65b819",
   "metadata": {},
   "outputs": [],
   "source": []
  },
  {
   "cell_type": "code",
   "execution_count": null,
   "id": "0881fe8b",
   "metadata": {},
   "outputs": [],
   "source": []
  },
  {
   "cell_type": "code",
   "execution_count": null,
   "id": "4960b4ec",
   "metadata": {},
   "outputs": [],
   "source": []
  },
  {
   "cell_type": "code",
   "execution_count": null,
   "id": "e7c5e858",
   "metadata": {},
   "outputs": [],
   "source": []
  },
  {
   "cell_type": "code",
   "execution_count": null,
   "id": "a9f06089",
   "metadata": {},
   "outputs": [],
   "source": []
  },
  {
   "cell_type": "code",
   "execution_count": null,
   "id": "3c9b8051",
   "metadata": {},
   "outputs": [],
   "source": []
  },
  {
   "cell_type": "code",
   "execution_count": null,
   "id": "065a397d",
   "metadata": {},
   "outputs": [],
   "source": []
  },
  {
   "cell_type": "code",
   "execution_count": null,
   "id": "04f28f9f",
   "metadata": {},
   "outputs": [],
   "source": []
  },
  {
   "cell_type": "code",
   "execution_count": null,
   "id": "f35f8b6a",
   "metadata": {},
   "outputs": [],
   "source": []
  },
  {
   "cell_type": "code",
   "execution_count": null,
   "id": "40042eb8",
   "metadata": {},
   "outputs": [],
   "source": []
  },
  {
   "cell_type": "code",
   "execution_count": null,
   "id": "d4875c74",
   "metadata": {},
   "outputs": [],
   "source": []
  }
 ],
 "metadata": {
  "kernelspec": {
   "display_name": "Python 3 (ipykernel)",
   "language": "python",
   "name": "python3"
  },
  "language_info": {
   "codemirror_mode": {
    "name": "ipython",
    "version": 3
   },
   "file_extension": ".py",
   "mimetype": "text/x-python",
   "name": "python",
   "nbconvert_exporter": "python",
   "pygments_lexer": "ipython3",
   "version": "3.10.9"
  }
 },
 "nbformat": 4,
 "nbformat_minor": 5
}
